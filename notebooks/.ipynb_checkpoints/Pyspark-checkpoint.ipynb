{
 "cells": [
  {
   "cell_type": "markdown",
   "id": "b293b43c",
   "metadata": {},
   "source": [
    "# Pyspark Evaluation"
   ]
  },
  {
   "cell_type": "code",
   "execution_count": 1,
   "id": "6c7f45fd",
   "metadata": {},
   "outputs": [],
   "source": [
    "import os\n",
    "import pyspark\n",
    "from pyspark import SparkConf, SparkContext, StorageLevel\n",
    "from pyspark.sql import SparkSession\n",
    "import pyspark.sql.functions as func\n",
    "from pyspark.sql import Window\n",
    "from pyspark.sql.types import DoubleType"
   ]
  },
  {
   "cell_type": "code",
   "execution_count": 2,
   "id": "eec0067e",
   "metadata": {},
   "outputs": [
    {
     "name": "stdout",
     "output_type": "stream",
     "text": [
      "Spark Version: 3.5.2\n"
     ]
    }
   ],
   "source": [
    "print(\"Spark Version:\", pyspark.__version__)"
   ]
  },
  {
   "cell_type": "code",
   "execution_count": 3,
   "id": "35ea4aba",
   "metadata": {},
   "outputs": [
    {
     "name": "stderr",
     "output_type": "stream",
     "text": [
      "bash: /home/alkhanafseh/miniconda3/envs/tf/lib/libtinfo.so.6: no version information available (required by bash)\n",
      "bash: /home/alkhanafseh/miniconda3/envs/tf/lib/libtinfo.so.6: no version information available (required by bash)\n",
      "24/10/05 14:27:48 WARN Utils: Your hostname, yousef-alkhanafseh resolves to a loopback address: 127.0.1.1; using 10.255.255.254 instead (on interface lo)\n",
      "24/10/05 14:27:48 WARN Utils: Set SPARK_LOCAL_IP if you need to bind to another address\n",
      "Setting default log level to \"WARN\".\n",
      "To adjust logging level use sc.setLogLevel(newLevel). For SparkR, use setLogLevel(newLevel).\n",
      "24/10/05 14:27:59 WARN NativeCodeLoader: Unable to load native-hadoop library for your platform... using builtin-java classes where applicable\n"
     ]
    }
   ],
   "source": [
    "conf = SparkConf().setMaster(\"local[*]\")\\\n",
    "                                .set(\"spark.ui.port\", 4040)\\\n",
    "                                .set(\"spark.memory.fraction\", \"0.9\")\\\n",
    "                                .set(\"spark.memory.storageFraction\", \"0.4\")\\\n",
    "                                .set(\"spark.driver.memory\", \"15g\")\\\n",
    "                                .set(\"spark.executor.memory\", \"15g\")\\\n",
    "                                .set(\"spark.executor.cores\", 5)\\\n",
    "                                .set(\"spark.driver.cores\", 5)\\\n",
    "                                .set(\"spark.executor.instances\", 3)\\\n",
    "                                .setAppName(\"PYSPARK_VS_PANDAS_VS_POLARS\")\n",
    "spark = SparkSession.builder.config(conf=conf).getOrCreate()\n",
    "sc = spark.sparkContext\n",
    "sc.setLogLevel(\"WARN\")"
   ]
  },
  {
   "cell_type": "markdown",
   "id": "419879bd",
   "metadata": {},
   "source": [
    "# Data Operations"
   ]
  },
  {
   "cell_type": "markdown",
   "id": "c8a2ba13",
   "metadata": {},
   "source": [
    "## Loading"
   ]
  },
  {
   "cell_type": "code",
   "execution_count": 4,
   "id": "5b35da90",
   "metadata": {},
   "outputs": [],
   "source": [
    "data_dir = os.path.join(os.getcwd(), \"newdata\")\n",
    "internet_session_data_path = os.path.join(data_dir, \"internet_sessions\")"
   ]
  },
  {
   "cell_type": "code",
   "execution_count": 5,
   "id": "a676865a",
   "metadata": {},
   "outputs": [
    {
     "name": "stdout",
     "output_type": "stream",
     "text": [
      "+-------------+---------------+------------------+----------------+--------------+----------+--------+--------------+--------------+----------+-----------+--------------+--------------+\n",
      "|username     |private_ip     |private_port_begin|private_port_end|real_ip       |port_begin|port_end|start_time    |log_time      |download  |upload     |terminatecause|statustype    |\n",
      "+-------------+---------------+------------------+----------------+--------------+----------+--------+--------------+--------------+----------+-----------+--------------+--------------+\n",
      "|unknown493110|100.203.251.147|1                 |65535           |31.106.16.172 |59974     |61283   |20220504084726|20220512230622|737997189 |13371095016|null          |interim_update|\n",
      "|unknown636683|100.201.189.9  |1                 |65535           |31.235.220.218|58664     |59973   |20220508101800|20220512231723|2509317527|38257924569|null          |interim_update|\n",
      "|unknown604230|100.162.254.90 |1                 |65535           |31.51.202.12  |31154     |32463   |20220508141219|20220512230736|1578158975|24122260885|null          |interim_update|\n",
      "|unknown604231|100.3.0.130    |1                 |65535           |31.218.62.65  |18054     |19363   |20220508221525|20220512230909|2372280309|88236065369|null          |interim_update|\n",
      "|unknown636684|100.246.79.146 |1                 |65535           |31.230.30.33  |28534     |29843   |20220511185415|20220512230537|23819809  |519289405  |null          |interim_update|\n",
      "+-------------+---------------+------------------+----------------+--------------+----------+--------+--------------+--------------+----------+-----------+--------------+--------------+\n",
      "only showing top 5 rows\n",
      "\n",
      "+-------------+---------------+------------------+----------------+--------------+----------+--------+--------------+--------------+----------+-----------+--------------+--------------+\n",
      "|username     |private_ip     |private_port_begin|private_port_end|real_ip       |port_begin|port_end|start_time    |log_time      |download  |upload     |terminatecause|statustype    |\n",
      "+-------------+---------------+------------------+----------------+--------------+----------+--------+--------------+--------------+----------+-----------+--------------+--------------+\n",
      "|unknown493110|100.203.251.147|1                 |65535           |31.106.16.172 |59974     |61283   |20220504084726|20220512230622|737997189 |13371095016|null          |interim_update|\n",
      "|unknown636683|100.201.189.9  |1                 |65535           |31.235.220.218|58664     |59973   |20220508101800|20220512231723|2509317527|38257924569|null          |interim_update|\n",
      "|unknown604230|100.162.254.90 |1                 |65535           |31.51.202.12  |31154     |32463   |20220508141219|20220512230736|1578158975|24122260885|null          |interim_update|\n",
      "|unknown604231|100.3.0.130    |1                 |65535           |31.218.62.65  |18054     |19363   |20220508221525|20220512230909|2372280309|88236065369|null          |interim_update|\n",
      "|unknown636684|100.246.79.146 |1                 |65535           |31.230.30.33  |28534     |29843   |20220511185415|20220512230537|23819809  |519289405  |null          |interim_update|\n",
      "+-------------+---------------+------------------+----------------+--------------+----------+--------+--------------+--------------+----------+-----------+--------------+--------------+\n",
      "only showing top 5 rows\n",
      "\n",
      "+-------------+---------------+------------------+----------------+--------------+----------+--------+--------------+--------------+----------+-----------+--------------+--------------+\n",
      "|username     |private_ip     |private_port_begin|private_port_end|real_ip       |port_begin|port_end|start_time    |log_time      |download  |upload     |terminatecause|statustype    |\n",
      "+-------------+---------------+------------------+----------------+--------------+----------+--------+--------------+--------------+----------+-----------+--------------+--------------+\n",
      "|unknown493110|100.203.251.147|1                 |65535           |31.106.16.172 |59974     |61283   |20220504084726|20220512230622|737997189 |13371095016|null          |interim_update|\n",
      "|unknown636683|100.201.189.9  |1                 |65535           |31.235.220.218|58664     |59973   |20220508101800|20220512231723|2509317527|38257924569|null          |interim_update|\n",
      "|unknown604230|100.162.254.90 |1                 |65535           |31.51.202.12  |31154     |32463   |20220508141219|20220512230736|1578158975|24122260885|null          |interim_update|\n",
      "|unknown604231|100.3.0.130    |1                 |65535           |31.218.62.65  |18054     |19363   |20220508221525|20220512230909|2372280309|88236065369|null          |interim_update|\n",
      "|unknown636684|100.246.79.146 |1                 |65535           |31.230.30.33  |28534     |29843   |20220511185415|20220512230537|23819809  |519289405  |null          |interim_update|\n",
      "+-------------+---------------+------------------+----------------+--------------+----------+--------+--------------+--------------+----------+-----------+--------------+--------------+\n",
      "only showing top 5 rows\n",
      "\n",
      "+-------------+---------------+------------------+----------------+--------------+----------+--------+--------------+--------------+----------+-----------+--------------+--------------+\n",
      "|username     |private_ip     |private_port_begin|private_port_end|real_ip       |port_begin|port_end|start_time    |log_time      |download  |upload     |terminatecause|statustype    |\n",
      "+-------------+---------------+------------------+----------------+--------------+----------+--------+--------------+--------------+----------+-----------+--------------+--------------+\n",
      "|unknown493110|100.203.251.147|1                 |65535           |31.106.16.172 |59974     |61283   |20220504084726|20220512230622|737997189 |13371095016|null          |interim_update|\n",
      "|unknown636683|100.201.189.9  |1                 |65535           |31.235.220.218|58664     |59973   |20220508101800|20220512231723|2509317527|38257924569|null          |interim_update|\n",
      "|unknown604230|100.162.254.90 |1                 |65535           |31.51.202.12  |31154     |32463   |20220508141219|20220512230736|1578158975|24122260885|null          |interim_update|\n",
      "|unknown604231|100.3.0.130    |1                 |65535           |31.218.62.65  |18054     |19363   |20220508221525|20220512230909|2372280309|88236065369|null          |interim_update|\n",
      "|unknown636684|100.246.79.146 |1                 |65535           |31.230.30.33  |28534     |29843   |20220511185415|20220512230537|23819809  |519289405  |null          |interim_update|\n",
      "+-------------+---------------+------------------+----------------+--------------+----------+--------+--------------+--------------+----------+-----------+--------------+--------------+\n",
      "only showing top 5 rows\n",
      "\n",
      "+-------------+---------------+------------------+----------------+--------------+----------+--------+--------------+--------------+----------+-----------+--------------+--------------+\n",
      "|username     |private_ip     |private_port_begin|private_port_end|real_ip       |port_begin|port_end|start_time    |log_time      |download  |upload     |terminatecause|statustype    |\n",
      "+-------------+---------------+------------------+----------------+--------------+----------+--------+--------------+--------------+----------+-----------+--------------+--------------+\n",
      "|unknown493110|100.203.251.147|1                 |65535           |31.106.16.172 |59974     |61283   |20220504084726|20220512230622|737997189 |13371095016|null          |interim_update|\n",
      "|unknown636683|100.201.189.9  |1                 |65535           |31.235.220.218|58664     |59973   |20220508101800|20220512231723|2509317527|38257924569|null          |interim_update|\n",
      "|unknown604230|100.162.254.90 |1                 |65535           |31.51.202.12  |31154     |32463   |20220508141219|20220512230736|1578158975|24122260885|null          |interim_update|\n",
      "|unknown604231|100.3.0.130    |1                 |65535           |31.218.62.65  |18054     |19363   |20220508221525|20220512230909|2372280309|88236065369|null          |interim_update|\n",
      "|unknown636684|100.246.79.146 |1                 |65535           |31.230.30.33  |28534     |29843   |20220511185415|20220512230537|23819809  |519289405  |null          |interim_update|\n",
      "+-------------+---------------+------------------+----------------+--------------+----------+--------+--------------+--------------+----------+-----------+--------------+--------------+\n",
      "only showing top 5 rows\n",
      "\n",
      "CPU times: user 4.73 ms, sys: 4.73 ms, total: 9.45 ms\n",
      "Wall time: 4.04 s\n"
     ]
    }
   ],
   "source": [
    "%%time\n",
    "for i in range(5):\n",
    "    spark_df = spark.read.format(\"csv\").option(\"header\",True).load(internet_session_data_path)\n",
    "    spark_df.show(5, False)"
   ]
  },
  {
   "cell_type": "code",
   "execution_count": 6,
   "id": "c7f12163",
   "metadata": {},
   "outputs": [
    {
     "name": "stderr",
     "output_type": "stream",
     "text": [
      "[Stage 10:==========================================>             (18 + 6) / 24]\r"
     ]
    },
    {
     "name": "stdout",
     "output_type": "stream",
     "text": [
      "9365106\n"
     ]
    },
    {
     "name": "stderr",
     "output_type": "stream",
     "text": [
      "\r",
      "                                                                                \r"
     ]
    }
   ],
   "source": [
    "spark_df.cache()\n",
    "print(spark_df.count())"
   ]
  },
  {
   "cell_type": "markdown",
   "id": "cfb062e5",
   "metadata": {},
   "source": [
    "## Column Selection"
   ]
  },
  {
   "cell_type": "code",
   "execution_count": 7,
   "id": "c464bc3a",
   "metadata": {},
   "outputs": [
    {
     "name": "stdout",
     "output_type": "stream",
     "text": [
      "+-------------+---------------+--------------+--------------+\n",
      "|     username|     private_ip|terminatecause|    statustype|\n",
      "+-------------+---------------+--------------+--------------+\n",
      "|unknown493110|100.203.251.147|          null|interim_update|\n",
      "|unknown636683|  100.201.189.9|          null|interim_update|\n",
      "|unknown604230| 100.162.254.90|          null|interim_update|\n",
      "|unknown604231|    100.3.0.130|          null|interim_update|\n",
      "|unknown636684| 100.246.79.146|          null|interim_update|\n",
      "+-------------+---------------+--------------+--------------+\n",
      "only showing top 5 rows\n",
      "\n",
      "CPU times: user 37.5 ms, sys: 0 ns, total: 37.5 ms\n",
      "Wall time: 166 ms\n"
     ]
    }
   ],
   "source": [
    "%%time\n",
    "spark_df.select(\"username\", \"private_ip\", \"terminatecause\", \"statustype\").show(5)"
   ]
  },
  {
   "cell_type": "markdown",
   "id": "f8963234",
   "metadata": {},
   "source": [
    "## Row Selection"
   ]
  },
  {
   "cell_type": "code",
   "execution_count": 8,
   "id": "3e7c620c",
   "metadata": {},
   "outputs": [
    {
     "name": "stdout",
     "output_type": "stream",
     "text": [
      "+-------------+-------------+------------------+----------------+------------+----------+--------+--------------+--------------+---------+----------+--------------+--------------+------+\n",
      "|     username|   private_ip|private_port_begin|private_port_end|     real_ip|port_begin|port_end|    start_time|      log_time| download|    upload|terminatecause|    statustype|row_id|\n",
      "+-------------+-------------+------------------+----------------+------------+----------+--------+--------------+--------------+---------+----------+--------------+--------------+------+\n",
      "|unknown469956|100.210.8.219|                 1|           65535|31.90.41.109|      4894|    6183|20220511200418|20220512231435|378459619|8527014992|          null|interim_update| 51235|\n",
      "+-------------+-------------+------------------+----------------+------------+----------+--------+--------------+--------------+---------+----------+--------------+--------------+------+\n",
      "\n",
      "CPU times: user 64 µs, sys: 10 ms, total: 10.1 ms\n",
      "Wall time: 678 ms\n"
     ]
    }
   ],
   "source": [
    "%%time\n",
    "# window_spec = Window.orderBy(\"username\")\n",
    "# spark_df_temp = spark_df.withColumn(\"row_number\", func.row_number().over(window_spec))\n",
    "# spark_df_temp.filter(spark_df_temp[\"row_number\"]==51235).show(5)\n",
    "\n",
    "\n",
    "spark_df_temp = spark_df.withColumn(\"row_id\", func.monotonically_increasing_id())\n",
    "spark_df_temp.filter(spark_df_temp.row_id == 51235).show(5)"
   ]
  },
  {
   "cell_type": "markdown",
   "id": "c4d0c8cb",
   "metadata": {},
   "source": [
    "## Filtering"
   ]
  },
  {
   "cell_type": "code",
   "execution_count": 9,
   "id": "a52bdc01",
   "metadata": {},
   "outputs": [
    {
     "name": "stdout",
     "output_type": "stream",
     "text": [
      "+-------------+--------------+------------------+----------------+--------------+----------+--------+--------------+--------------+----------+-----------+--------------+--------------+\n",
      "|     username|    private_ip|private_port_begin|private_port_end|       real_ip|port_begin|port_end|    start_time|      log_time|  download|     upload|terminatecause|    statustype|\n",
      "+-------------+--------------+------------------+----------------+--------------+----------+--------+--------------+--------------+----------+-----------+--------------+--------------+\n",
      "|unknown636683| 100.201.189.9|                 1|           65535|31.235.220.218|     58664|   59973|20220508101800|20220512231723|2509317527|38257924569|          null|interim_update|\n",
      "|unknown604230|100.162.254.90|                 1|           65535|  31.51.202.12|     31154|   32463|20220508141219|20220512230736|1578158975|24122260885|          null|interim_update|\n",
      "|unknown636684|100.246.79.146|                 1|           65535|  31.230.30.33|     28534|   29843|20220511185415|20220512230537|  23819809|  519289405|          null|interim_update|\n",
      "|unknown509804|100.40.191.121|                 1|           65535| 31.211.14.118|     50804|   52113|20220512151003|20220512231238| 333310500| 8361516215|          null|interim_update|\n",
      "|unknown443183|  100.27.8.116|                 1|           65535| 31.124.183.29|     56044|   57353|20220512180100|20220512233811|  17548020|  434398461|    Port-Error|  session_stop|\n",
      "+-------------+--------------+------------------+----------------+--------------+----------+--------+--------------+--------------+----------+-----------+--------------+--------------+\n",
      "only showing top 5 rows\n",
      "\n",
      "CPU times: user 2.61 ms, sys: 0 ns, total: 2.61 ms\n",
      "Wall time: 96.5 ms\n"
     ]
    }
   ],
   "source": [
    "%%time\n",
    "spark_df.filter((spark_df['port_begin'] > 27224) & (spark_df['port_end'] < 60363)).show(5)"
   ]
  },
  {
   "cell_type": "markdown",
   "id": "cc08c7bf",
   "metadata": {},
   "source": [
    "## Grouping & Aggregating"
   ]
  },
  {
   "cell_type": "code",
   "execution_count": 10,
   "id": "7047e655",
   "metadata": {},
   "outputs": [
    {
     "name": "stderr",
     "output_type": "stream",
     "text": [
      "[Stage 18:===================================>                    (15 + 9) / 24]\r"
     ]
    },
    {
     "name": "stdout",
     "output_type": "stream",
     "text": [
      "+-------------+----------------+-----------------+\n",
      "|     username|        download|           upload|\n",
      "+-------------+----------------+-----------------+\n",
      "|unknown595707|     7.9925856E8|  2.9609117773E10|\n",
      "|    unknown43|1.33677950784E11|1.074269728316E12|\n",
      "|    unknown50|   6.794605791E9|  7.3379222173E10|\n",
      "|   unknown140| 2.1181787263E10| 2.91516724205E11|\n",
      "|unknown157118|   3.002973885E9|  9.1878590662E10|\n",
      "+-------------+----------------+-----------------+\n",
      "only showing top 5 rows\n",
      "\n",
      "CPU times: user 5.15 ms, sys: 30.7 ms, total: 35.9 ms\n",
      "Wall time: 5.04 s\n"
     ]
    },
    {
     "name": "stderr",
     "output_type": "stream",
     "text": [
      "\r",
      "                                                                                \r"
     ]
    }
   ],
   "source": [
    "%%time\n",
    "spark_df.groupBy('username').agg(func.sum(func.col('download')).alias('download'), \n",
    "                                       func.sum(func.col('upload')).alias('upload')).show(5)"
   ]
  },
  {
   "cell_type": "markdown",
   "id": "29db8f35",
   "metadata": {},
   "source": [
    "## Joining"
   ]
  },
  {
   "cell_type": "code",
   "execution_count": 11,
   "id": "a2a9e1d0",
   "metadata": {},
   "outputs": [],
   "source": [
    "ids_df = spark.read.format(\"csv\").option(\"header\", True).load(os.path.join(data_dir, \"ids\", \"username_id.csv\"))\n",
    "ids_df = func.broadcast(ids_df)"
   ]
  },
  {
   "cell_type": "code",
   "execution_count": 12,
   "id": "9bc3e51a",
   "metadata": {},
   "outputs": [
    {
     "name": "stdout",
     "output_type": "stream",
     "text": [
      "+-------------+---------------+------------------+----------------+--------------+----------+--------+--------------+--------------+----------+-----------+--------------+--------------+------+\n",
      "|     username|     private_ip|private_port_begin|private_port_end|       real_ip|port_begin|port_end|    start_time|      log_time|  download|     upload|terminatecause|    statustype|    id|\n",
      "+-------------+---------------+------------------+----------------+--------------+----------+--------+--------------+--------------+----------+-----------+--------------+--------------+------+\n",
      "|unknown493110|100.203.251.147|                 1|           65535| 31.106.16.172|     59974|   61283|20220504084726|20220512230622| 737997189|13371095016|          null|interim_update|493110|\n",
      "|unknown636683|  100.201.189.9|                 1|           65535|31.235.220.218|     58664|   59973|20220508101800|20220512231723|2509317527|38257924569|          null|interim_update|636683|\n",
      "|unknown604230| 100.162.254.90|                 1|           65535|  31.51.202.12|     31154|   32463|20220508141219|20220512230736|1578158975|24122260885|          null|interim_update|604230|\n",
      "|unknown604231|    100.3.0.130|                 1|           65535|  31.218.62.65|     18054|   19363|20220508221525|20220512230909|2372280309|88236065369|          null|interim_update|604231|\n",
      "|unknown636684| 100.246.79.146|                 1|           65535|  31.230.30.33|     28534|   29843|20220511185415|20220512230537|  23819809|  519289405|          null|interim_update|636684|\n",
      "+-------------+---------------+------------------+----------------+--------------+----------+--------+--------------+--------------+----------+-----------+--------------+--------------+------+\n",
      "only showing top 5 rows\n",
      "\n",
      "CPU times: user 5.26 ms, sys: 0 ns, total: 5.26 ms\n",
      "Wall time: 952 ms\n"
     ]
    }
   ],
   "source": [
    "%%time\n",
    "spark_df.join(ids_df, on='username', how=\"inner\").show(5)"
   ]
  },
  {
   "cell_type": "markdown",
   "id": "418c118c",
   "metadata": {},
   "source": [
    "## Pivoting"
   ]
  },
  {
   "cell_type": "code",
   "execution_count": 13,
   "id": "f0835666",
   "metadata": {},
   "outputs": [
    {
     "name": "stdout",
     "output_type": "stream",
     "text": [
      "+--------------+-----------+-------+------------+------------+------------+-----------+----------+------------+\n",
      "|    statustype|Admin-Reset|  Empty|Host-Request|Idle-Timeout|Lost-Carrier|NAS-Request|Port-Error|User-Request|\n",
      "+--------------+-----------+-------+------------+------------+------------+-----------+----------+------------+\n",
      "|  session_stop|      24188|   null|         529|      329143|      147579|       4913|    186865|       82564|\n",
      "| session_start|       null| 778845|        null|        null|        null|       null|      null|        null|\n",
      "|interim_update|       null|7810480|        null|        null|        null|       null|      null|        null|\n",
      "+--------------+-----------+-------+------------+------------+------------+-----------+----------+------------+\n",
      "\n",
      "CPU times: user 2.54 ms, sys: 5.96 ms, total: 8.51 ms\n",
      "Wall time: 1.18 s\n"
     ]
    }
   ],
   "source": [
    "%%time\n",
    "spark_df_temp = spark_df.fillna({\"statustype\": \"Empty\", \"terminatecause\": \"Empty\"})\n",
    "spark_df_temp = spark_df_temp.groupBy(\"statustype\").pivot(\"terminatecause\").agg(func.count(\"username\"))\n",
    "spark_df_temp.show(5)"
   ]
  },
  {
   "cell_type": "markdown",
   "id": "a7557b6d",
   "metadata": {},
   "source": [
    "## Sorting"
   ]
  },
  {
   "cell_type": "code",
   "execution_count": 14,
   "id": "21b40aa8",
   "metadata": {},
   "outputs": [
    {
     "name": "stdout",
     "output_type": "stream",
     "text": [
      "+--------+---------------+------------------+----------------+-------------+----------+--------+--------------+--------------+---------+----------+--------------+--------------+\n",
      "|username|     private_ip|private_port_begin|private_port_end|      real_ip|port_begin|port_end|    start_time|      log_time| download|    upload|terminatecause|    statustype|\n",
      "+--------+---------------+------------------+----------------+-------------+----------+--------+--------------+--------------+---------+----------+--------------+--------------+\n",
      "|unknown1|   100.11.50.60|                 1|           65535|31.225.97.231|      6264|    7573|20220512000007|20220512080124| 90367029|3089942881|          null|interim_update|\n",
      "|unknown1|100.210.174.213|                 1|           65535|31.176.23.224|      3644|    4953|20220511015231|20220512000002|332056215|6255792501|  Idle-Timeout|  session_stop|\n",
      "|unknown1|   100.11.50.60|                 1|           65535|31.225.97.231|      6264|    7573|20220512000007|20220512120239|109583043|3248398981|          null|interim_update|\n",
      "|unknown1|   100.11.50.60|                 1|           65535|31.225.97.231|      6264|    7573|20220512000007|20220512000007|        0|         0|          null| session_start|\n",
      "|unknown1|   100.11.50.60|                 1|           65535|31.225.97.231|      6264|    7573|20220512000007|20220512040028| 46632757|1971655293|          null|interim_update|\n",
      "+--------+---------------+------------------+----------------+-------------+----------+--------+--------------+--------------+---------+----------+--------------+--------------+\n",
      "only showing top 5 rows\n",
      "\n",
      "CPU times: user 4.25 ms, sys: 3.6 ms, total: 7.86 ms\n",
      "Wall time: 734 ms\n"
     ]
    },
    {
     "name": "stderr",
     "output_type": "stream",
     "text": [
      "\r",
      "[Stage 38:===================================>                    (15 + 9) / 24]\r",
      "\r",
      "                                                                                \r"
     ]
    }
   ],
   "source": [
    "%%time\n",
    "spark_df.orderBy('username').show(5)"
   ]
  },
  {
   "cell_type": "markdown",
   "id": "fe50265a",
   "metadata": {},
   "source": [
    "## Applying External Functions"
   ]
  },
  {
   "cell_type": "code",
   "execution_count": 15,
   "id": "1e47d0d7",
   "metadata": {},
   "outputs": [],
   "source": [
    "def bytes_to_gb(value):\n",
    "    if value is None:\n",
    "        return None  # Return None for null values\n",
    "    return value / (1024 ** 3)"
   ]
  },
  {
   "cell_type": "code",
   "execution_count": 16,
   "id": "8c1e9db7",
   "metadata": {},
   "outputs": [
    {
     "name": "stdout",
     "output_type": "stream",
     "text": [
      "+-------------+---------------+------------------+----------------+--------------+----------+--------+--------------+--------------+--------------------+-----------+--------------+--------------+\n",
      "|     username|     private_ip|private_port_begin|private_port_end|       real_ip|port_begin|port_end|    start_time|      log_time|            download|     upload|terminatecause|    statustype|\n",
      "+-------------+---------------+------------------+----------------+--------------+----------+--------+--------------+--------------+--------------------+-----------+--------------+--------------+\n",
      "|unknown493110|100.203.251.147|                 1|           65535| 31.106.16.172|     59974|   61283|20220504084726|20220512230622|  0.6873134421184659|13371095016|          null|interim_update|\n",
      "|unknown636683|  100.201.189.9|                 1|           65535|31.235.220.218|     58664|   59973|20220508101800|20220512231723|                null|38257924569|          null|interim_update|\n",
      "|unknown604230| 100.162.254.90|                 1|           65535|  31.51.202.12|     31154|   32463|20220508141219|20220512230736|  1.4697750797495246|24122260885|          null|interim_update|\n",
      "|unknown604231|    100.3.0.130|                 1|           65535|  31.218.62.65|     18054|   19363|20220508221525|20220512230909|                null|88236065369|          null|interim_update|\n",
      "|unknown636684| 100.246.79.146|                 1|           65535|  31.230.30.33|     28534|   29843|20220511185415|20220512230537|0.022183925844728947|  519289405|          null|interim_update|\n",
      "+-------------+---------------+------------------+----------------+--------------+----------+--------+--------------+--------------+--------------------+-----------+--------------+--------------+\n",
      "only showing top 5 rows\n",
      "\n",
      "CPU times: user 39.7 ms, sys: 0 ns, total: 39.7 ms\n",
      "Wall time: 875 ms\n"
     ]
    },
    {
     "name": "stderr",
     "output_type": "stream",
     "text": [
      "\r",
      "[Stage 39:>                                                         (0 + 1) / 1]\r",
      "\r",
      "                                                                                \r"
     ]
    }
   ],
   "source": [
    "%%time\n",
    "bytes_to_gb_udf = func.udf(bytes_to_gb, DoubleType())\n",
    "spark_df = spark_df.withColumn(\"download\", func.col(\"download\").cast(\"int\"))\n",
    "spark_df.withColumn(\"download\", bytes_to_gb_udf(spark_df[\"download\"])).show(5)"
   ]
  },
  {
   "cell_type": "markdown",
   "id": "54d14bce",
   "metadata": {},
   "source": [
    "## String Operation"
   ]
  },
  {
   "cell_type": "code",
   "execution_count": 17,
   "id": "ed971737",
   "metadata": {},
   "outputs": [
    {
     "name": "stdout",
     "output_type": "stream",
     "text": [
      "+-------------+---------------+------------------+----------------+--------------+----------+--------+--------------+--------------+----------+-----------+--------------+--------------+\n",
      "|     username|     private_ip|private_port_begin|private_port_end|       real_ip|port_begin|port_end|    start_time|      log_time|  download|     upload|terminatecause|    statustype|\n",
      "+-------------+---------------+------------------+----------------+--------------+----------+--------+--------------+--------------+----------+-----------+--------------+--------------+\n",
      "|unknown493110|100.203.251.147|                 1|           65535| 31.106.16.172|     59974|   61283|20220504084726|20220512230622| 737997189|13371095016|          null|interim_update|\n",
      "|   unknown100|  100.196.186.7|                 1|           65535|   31.96.78.36|     37704|   39013|20220509073544|20220512234053|1011727348|28682940158|          null|interim_update|\n",
      "|   unknown102| 100.158.21.237|                 1|           65535|  95.83.139.60|     14124|   15433|20220509083953|20220512234936|1111239216|11594306074|          null|interim_update|\n",
      "|   unknown103| 100.109.104.12|                 1|           65535|31.170.176.185|     53424|   54733|20220509101304|20220512232823| 489896750|10968270668|          null|interim_update|\n",
      "|   unknown104|   100.231.24.3|                 1|           65535|  95.171.42.31|     40324|   41633|20220509113514|20220512234435|1039863353|24748412457|          null|interim_update|\n",
      "+-------------+---------------+------------------+----------------+--------------+----------+--------+--------------+--------------+----------+-----------+--------------+--------------+\n",
      "only showing top 5 rows\n",
      "\n",
      "CPU times: user 3.09 ms, sys: 0 ns, total: 3.09 ms\n",
      "Wall time: 69.4 ms\n"
     ]
    }
   ],
   "source": [
    "%%time\n",
    "spark_df.filter(spark_df['username'].rlike('10|20')).show(5)"
   ]
  },
  {
   "cell_type": "markdown",
   "id": "bf07c0d2",
   "metadata": {},
   "source": [
    "## Datetime Operation"
   ]
  },
  {
   "cell_type": "code",
   "execution_count": 18,
   "id": "75cb8bdf",
   "metadata": {},
   "outputs": [
    {
     "name": "stdout",
     "output_type": "stream",
     "text": [
      "+-------------+---------------+------------------+----------------+--------------+----------+--------+-------------------+--------------+----------+-----------+--------------+--------------+\n",
      "|     username|     private_ip|private_port_begin|private_port_end|       real_ip|port_begin|port_end|         start_time|      log_time|  download|     upload|terminatecause|    statustype|\n",
      "+-------------+---------------+------------------+----------------+--------------+----------+--------+-------------------+--------------+----------+-----------+--------------+--------------+\n",
      "|unknown493110|100.203.251.147|                 1|           65535| 31.106.16.172|     59974|   61283|2022-05-04 08:47:26|20220512230622| 737997189|13371095016|          null|interim_update|\n",
      "|unknown636683|  100.201.189.9|                 1|           65535|31.235.220.218|     58664|   59973|2022-05-08 10:18:00|20220512231723|      null|38257924569|          null|interim_update|\n",
      "|unknown604230| 100.162.254.90|                 1|           65535|  31.51.202.12|     31154|   32463|2022-05-08 14:12:19|20220512230736|1578158975|24122260885|          null|interim_update|\n",
      "|unknown604231|    100.3.0.130|                 1|           65535|  31.218.62.65|     18054|   19363|2022-05-08 22:15:25|20220512230909|      null|88236065369|          null|interim_update|\n",
      "|unknown636684| 100.246.79.146|                 1|           65535|  31.230.30.33|     28534|   29843|2022-05-11 18:54:15|20220512230537|  23819809|  519289405|          null|interim_update|\n",
      "+-------------+---------------+------------------+----------------+--------------+----------+--------+-------------------+--------------+----------+-----------+--------------+--------------+\n",
      "only showing top 5 rows\n",
      "\n",
      "CPU times: user 0 ns, sys: 3.44 ms, total: 3.44 ms\n",
      "Wall time: 66.1 ms\n"
     ]
    }
   ],
   "source": [
    "%%time\n",
    "spark_df.withColumn(\"start_time\", func.to_timestamp(spark_df[\"start_time\"].cast(\"string\"), \"yyyyMMddHHmmss\")).show(5)"
   ]
  },
  {
   "cell_type": "markdown",
   "id": "cda4eba2",
   "metadata": {},
   "source": [
    "## Writing"
   ]
  },
  {
   "cell_type": "code",
   "execution_count": 19,
   "id": "2b38c6a4",
   "metadata": {},
   "outputs": [
    {
     "name": "stderr",
     "output_type": "stream",
     "text": [
      "[Stage 42:====================================================>   (13 + 1) / 14]\r"
     ]
    },
    {
     "name": "stdout",
     "output_type": "stream",
     "text": [
      "CPU times: user 17.7 ms, sys: 0 ns, total: 17.7 ms\n",
      "Wall time: 9.73 s\n"
     ]
    },
    {
     "name": "stderr",
     "output_type": "stream",
     "text": [
      "\r",
      "                                                                                \r"
     ]
    }
   ],
   "source": [
    "%%time\n",
    "spark_df.coalesce(14).write.format(\"csv\").option(\"header\",True).mode(\"overwrite\").save(os.path.join(data_dir, \"output\", \"pyspark_data\"))"
   ]
  },
  {
   "cell_type": "markdown",
   "id": "dfc97194",
   "metadata": {},
   "source": [
    "# Done"
   ]
  }
 ],
 "metadata": {
  "kernelspec": {
   "display_name": "tf",
   "language": "python",
   "name": "tf"
  },
  "language_info": {
   "codemirror_mode": {
    "name": "ipython",
    "version": 3
   },
   "file_extension": ".py",
   "mimetype": "text/x-python",
   "name": "python",
   "nbconvert_exporter": "python",
   "pygments_lexer": "ipython3",
   "version": "3.9.17"
  }
 },
 "nbformat": 4,
 "nbformat_minor": 5
}
