{
 "cells": [
  {
   "cell_type": "markdown",
   "id": "d7f210fd",
   "metadata": {},
   "source": [
    "# Polars Evaluation"
   ]
  },
  {
   "cell_type": "code",
   "execution_count": null,
   "id": "e1e99388",
   "metadata": {},
   "outputs": [],
   "source": [
    "import os\n",
    "import polars as pl"
   ]
  },
  {
   "cell_type": "code",
   "execution_count": null,
   "id": "b87f2e4c",
   "metadata": {},
   "outputs": [],
   "source": [
    "print(\"Polars Version:\", pl.__version__)"
   ]
  },
  {
   "cell_type": "markdown",
   "id": "8fe4cdc1",
   "metadata": {},
   "source": [
    "# Data Operations"
   ]
  },
  {
   "cell_type": "markdown",
   "id": "9872529c",
   "metadata": {},
   "source": [
    "## Loading"
   ]
  },
  {
   "cell_type": "code",
   "execution_count": null,
   "id": "2b63cbf9",
   "metadata": {},
   "outputs": [],
   "source": [
    "main_dir, _ = os.path.split(os.getcwd())\n",
    "data_dir = os.path.join(main_dir, \"data\")\n",
    "internet_session_data_path = os.path.join(data_dir, \"internet_sessions\")"
   ]
  },
  {
   "cell_type": "code",
   "execution_count": null,
   "id": "47fd491f",
   "metadata": {},
   "outputs": [],
   "source": [
    "%%time\n",
    "dfs = [pl.read_csv(os.path.join(internet_session_data_path, f)) for f in os.listdir(internet_session_data_path)]\n",
    "polars_df = pl.concat(dfs)\n",
    "polars_df.head(5)"
   ]
  },
  {
   "cell_type": "markdown",
   "id": "4ad8baaf",
   "metadata": {},
   "source": [
    "## Column Selection"
   ]
  },
  {
   "cell_type": "code",
   "execution_count": null,
   "id": "ea6a4f5f",
   "metadata": {},
   "outputs": [],
   "source": [
    "%%time\n",
    "polars_df[[\"username\", \"private_ip\", \"terminatecause\", \"statustype\"]].head(5)"
   ]
  },
  {
   "cell_type": "markdown",
   "id": "7fea8133",
   "metadata": {},
   "source": [
    "## Row Selection"
   ]
  },
  {
   "cell_type": "code",
   "execution_count": null,
   "id": "036e30dc",
   "metadata": {},
   "outputs": [],
   "source": [
    "%%time\n",
    "polars_df.row(51235)"
   ]
  },
  {
   "cell_type": "markdown",
   "id": "a8def217",
   "metadata": {},
   "source": [
    "## Filtering"
   ]
  },
  {
   "cell_type": "code",
   "execution_count": null,
   "id": "23161caa",
   "metadata": {},
   "outputs": [],
   "source": [
    "%%time\n",
    "polars_df.filter((polars_df['port_begin'] > 27224) & (polars_df['port_end'] < 60363)).head(5)"
   ]
  },
  {
   "cell_type": "markdown",
   "id": "a2f22e4c",
   "metadata": {},
   "source": [
    "## Grouping & Aggregating"
   ]
  },
  {
   "cell_type": "code",
   "execution_count": null,
   "id": "1ef82328",
   "metadata": {},
   "outputs": [],
   "source": [
    "%%time\n",
    "polars_df.group_by('username').agg(pl.col('download').sum(), pl.col('upload').sum()).head(5)"
   ]
  },
  {
   "cell_type": "markdown",
   "id": "83a0ef98",
   "metadata": {},
   "source": [
    "## Joining"
   ]
  },
  {
   "cell_type": "code",
   "execution_count": null,
   "id": "41f253f9",
   "metadata": {},
   "outputs": [],
   "source": [
    "polars_ids_df = pl.read_csv(os.path.join(data_dir, \"ids\", \"username_id.csv\"))"
   ]
  },
  {
   "cell_type": "code",
   "execution_count": null,
   "id": "bbf7e187",
   "metadata": {},
   "outputs": [],
   "source": [
    "%%time\n",
    "polars_df.join(polars_ids_df, on='username', how=\"inner\").head(5)"
   ]
  },
  {
   "cell_type": "markdown",
   "id": "139e1824",
   "metadata": {},
   "source": [
    "## Pivoting"
   ]
  },
  {
   "cell_type": "code",
   "execution_count": null,
   "id": "2f23adcc",
   "metadata": {},
   "outputs": [],
   "source": [
    "%%time\n",
    "polars_df.fill_nan(\"Empty\").pivot(index='statustype', columns='terminatecause', values=\"username\", aggregate_function='count').fill_nan(\"\").head(100)"
   ]
  },
  {
   "cell_type": "markdown",
   "id": "ae8796cf",
   "metadata": {},
   "source": [
    "## Sorting"
   ]
  },
  {
   "cell_type": "code",
   "execution_count": null,
   "id": "6317061c",
   "metadata": {},
   "outputs": [],
   "source": [
    "%%time\n",
    "polars_df.sort('username').head(5)"
   ]
  },
  {
   "cell_type": "markdown",
   "id": "4918b965",
   "metadata": {},
   "source": [
    "## Applying External Functions"
   ]
  },
  {
   "cell_type": "code",
   "execution_count": null,
   "id": "6d0d6f66",
   "metadata": {},
   "outputs": [],
   "source": [
    "def bytes_to_gb(value):\n",
    "    return value/(1024**3)"
   ]
  },
  {
   "cell_type": "code",
   "execution_count": null,
   "id": "dcb179bc",
   "metadata": {},
   "outputs": [],
   "source": [
    "%%time\n",
    "polars_df.with_columns(pl.col(\"download\").map_elements(bytes_to_gb)).head(5)"
   ]
  },
  {
   "cell_type": "markdown",
   "id": "cf45d55f",
   "metadata": {},
   "source": [
    "## String operation"
   ]
  },
  {
   "cell_type": "code",
   "execution_count": null,
   "id": "d449b7cb",
   "metadata": {},
   "outputs": [],
   "source": [
    "%%time\n",
    "polars_df['username'].str.contains('10|20').head(5)"
   ]
  },
  {
   "cell_type": "markdown",
   "id": "23a27d87",
   "metadata": {},
   "source": [
    "## Datetime Operation"
   ]
  },
  {
   "cell_type": "code",
   "execution_count": null,
   "id": "810f87da",
   "metadata": {},
   "outputs": [],
   "source": [
    "%%time\n",
    "polars_df.with_columns(pl.col(\"start_time\").cast(pl.String).str.strptime(pl.Datetime, format=\"%Y%m%d%H%M%S\").alias(\"start_time\")).head(5)"
   ]
  },
  {
   "cell_type": "markdown",
   "id": "79327aaa",
   "metadata": {},
   "source": [
    "## Writing"
   ]
  },
  {
   "cell_type": "code",
   "execution_count": null,
   "id": "544d2bfd",
   "metadata": {},
   "outputs": [],
   "source": [
    "%%time\n",
    "polars_df.write_csv(os.path.join(data_dir, \"output\", \"polars_data.csv\"), include_bom=False)"
   ]
  },
  {
   "cell_type": "markdown",
   "id": "019421da",
   "metadata": {},
   "source": [
    "# Done"
   ]
  }
 ],
 "metadata": {
  "kernelspec": {
   "display_name": "tf",
   "language": "python",
   "name": "tf"
  },
  "language_info": {
   "codemirror_mode": {
    "name": "ipython",
    "version": 3
   },
   "file_extension": ".py",
   "mimetype": "text/x-python",
   "name": "python",
   "nbconvert_exporter": "python",
   "pygments_lexer": "ipython3",
   "version": "3.9.17"
  }
 },
 "nbformat": 4,
 "nbformat_minor": 5
}
