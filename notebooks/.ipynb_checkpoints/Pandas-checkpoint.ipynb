{
 "cells": [
  {
   "cell_type": "markdown",
   "id": "eea7a8ba",
   "metadata": {},
   "source": [
    "# Pandsa Evaluation"
   ]
  },
  {
   "cell_type": "code",
   "execution_count": 1,
   "id": "e36b5579",
   "metadata": {},
   "outputs": [],
   "source": [
    "import os\n",
    "import pandas as pd"
   ]
  },
  {
   "cell_type": "code",
   "execution_count": 2,
   "id": "f752687d",
   "metadata": {},
   "outputs": [
    {
     "name": "stdout",
     "output_type": "stream",
     "text": [
      "Pandas Version: 2.2.2\n"
     ]
    }
   ],
   "source": [
    "print(\"Pandas Version:\", pd.__version__)"
   ]
  },
  {
   "cell_type": "markdown",
   "id": "61bd9e0b",
   "metadata": {},
   "source": [
    "# Data Operations"
   ]
  },
  {
   "cell_type": "markdown",
   "id": "fac448bc",
   "metadata": {},
   "source": [
    "## Loading"
   ]
  },
  {
   "cell_type": "code",
   "execution_count": 3,
   "id": "326c8404",
   "metadata": {},
   "outputs": [],
   "source": [
    "data_dir = os.path.join(os.getcwd(), \"data\")\n",
    "internet_session_data_path = os.path.join(data_dir, \"internet_sessions\")"
   ]
  },
  {
   "cell_type": "code",
   "execution_count": 6,
   "id": "9a1587cd",
   "metadata": {},
   "outputs": [],
   "source": []
  },
  {
   "cell_type": "code",
   "execution_count": 4,
   "id": "a184e4a2",
   "metadata": {},
   "outputs": [
    {
     "ename": "FileNotFoundError",
     "evalue": "[Errno 2] No such file or directory: '/home/alkhanafseh/data_python_tools/notebooks/data/internet_sessions'",
     "output_type": "error",
     "traceback": [
      "\u001b[0;31m---------------------------------------------------------------------------\u001b[0m",
      "\u001b[0;31mFileNotFoundError\u001b[0m                         Traceback (most recent call last)",
      "File \u001b[0;32m<timed exec>:1\u001b[0m\n",
      "\u001b[0;31mFileNotFoundError\u001b[0m: [Errno 2] No such file or directory: '/home/alkhanafseh/data_python_tools/notebooks/data/internet_sessions'"
     ]
    }
   ],
   "source": [
    "%%time\n",
    "dfs = [pd.read_csv(os.path.join(internet_session_data_path, f)) for f in os.listdir(internet_session_data_path)]\n",
    "pandas_df = pd.concat(dfs)\n",
    "pandas_df.head(5)"
   ]
  },
  {
   "cell_type": "markdown",
   "id": "516b64ed",
   "metadata": {},
   "source": [
    "## Column Selection"
   ]
  },
  {
   "cell_type": "code",
   "execution_count": null,
   "id": "d7a62026",
   "metadata": {},
   "outputs": [],
   "source": [
    "%%time\n",
    "pandas_df[[\"username\", \"private_ip\", \"terminatecause\", \"statustype\"]].head(5)"
   ]
  },
  {
   "cell_type": "markdown",
   "id": "8df3a7f8",
   "metadata": {},
   "source": [
    "## Row Selection"
   ]
  },
  {
   "cell_type": "code",
   "execution_count": null,
   "id": "7c550b30",
   "metadata": {},
   "outputs": [],
   "source": [
    "%%time\n",
    "pandas_df.iloc[51235]"
   ]
  },
  {
   "cell_type": "markdown",
   "id": "2f3daeb9",
   "metadata": {},
   "source": [
    "## Filtering"
   ]
  },
  {
   "cell_type": "code",
   "execution_count": null,
   "id": "7c1865c8",
   "metadata": {},
   "outputs": [],
   "source": [
    "%%time\n",
    "pandas_df[(pandas_df['port_begin'] > 27224) & (pandas_df['port_end'] < 60363)].head(5)"
   ]
  },
  {
   "cell_type": "markdown",
   "id": "8d5d6c60",
   "metadata": {},
   "source": [
    "## Grouping & Aggregating"
   ]
  },
  {
   "cell_type": "code",
   "execution_count": null,
   "id": "6e9a5a3e",
   "metadata": {},
   "outputs": [],
   "source": [
    "%%time\n",
    "pandas_df.groupby('username').agg({'download': 'sum', 'upload':'sum'}).head(5)"
   ]
  },
  {
   "cell_type": "markdown",
   "id": "7a9d0b21",
   "metadata": {},
   "source": [
    "## Joining"
   ]
  },
  {
   "cell_type": "code",
   "execution_count": null,
   "id": "12778657",
   "metadata": {},
   "outputs": [],
   "source": [
    "pandas_ids_df = pd.read_csv(os.path.join(data_dir, \"ids\", \"username_id.csv\"))"
   ]
  },
  {
   "cell_type": "code",
   "execution_count": null,
   "id": "121ac077",
   "metadata": {},
   "outputs": [],
   "source": [
    "%%time\n",
    "pandas_df.merge(pandas_ids_df, on=[\"username\"], how=\"inner\").head(5)"
   ]
  },
  {
   "cell_type": "markdown",
   "id": "ba64c65a",
   "metadata": {},
   "source": [
    "## Pivoting"
   ]
  },
  {
   "cell_type": "code",
   "execution_count": null,
   "id": "f138bbb2",
   "metadata": {},
   "outputs": [],
   "source": [
    "%%time\n",
    "pandas_df.fillna(\"Empty\").pivot_table(index='statustype', columns='terminatecause', values=\"username\", aggfunc='count').fillna(\"\").head(10)"
   ]
  },
  {
   "cell_type": "markdown",
   "id": "bf8bbd08",
   "metadata": {},
   "source": [
    "## Sorting"
   ]
  },
  {
   "cell_type": "code",
   "execution_count": null,
   "id": "08cc3657",
   "metadata": {},
   "outputs": [],
   "source": [
    "%%time\n",
    "pandas_df.sort_values(by='username').head(5)"
   ]
  },
  {
   "cell_type": "markdown",
   "id": "7dd259f9",
   "metadata": {},
   "source": [
    "## Applying External Functions"
   ]
  },
  {
   "cell_type": "code",
   "execution_count": null,
   "id": "95b17f1c",
   "metadata": {},
   "outputs": [],
   "source": [
    "def bytes_to_gb(value):\n",
    "    return value/(1024**3)"
   ]
  },
  {
   "cell_type": "code",
   "execution_count": null,
   "id": "549445fc",
   "metadata": {},
   "outputs": [],
   "source": [
    "%%time\n",
    "pandas_df['download'].apply(bytes_to_gb).head(5)"
   ]
  },
  {
   "cell_type": "markdown",
   "id": "977b3db5",
   "metadata": {},
   "source": [
    "## String operation"
   ]
  },
  {
   "cell_type": "code",
   "execution_count": null,
   "id": "f889e1ce",
   "metadata": {},
   "outputs": [],
   "source": [
    "%%time\n",
    "pandas_df['username'].str.contains('10|20').head(5)"
   ]
  },
  {
   "cell_type": "markdown",
   "id": "f6139e09",
   "metadata": {},
   "source": [
    "## Datetime Operation"
   ]
  },
  {
   "cell_type": "code",
   "execution_count": null,
   "id": "17ddc395",
   "metadata": {},
   "outputs": [],
   "source": [
    "%%time\n",
    "pd.to_datetime(pandas_df['start_time'].astype(str), format=\"%Y%m%d%H%M%S\").head(5)"
   ]
  },
  {
   "cell_type": "markdown",
   "id": "adc5fe9d",
   "metadata": {},
   "source": [
    "## Writing"
   ]
  },
  {
   "cell_type": "code",
   "execution_count": null,
   "id": "b8a238bb",
   "metadata": {},
   "outputs": [],
   "source": [
    "%%time\n",
    "pandas_df.to_csv(os.path.join(data_dir, \"output\", \"pandas_data.csv\"), index=False)"
   ]
  },
  {
   "cell_type": "markdown",
   "id": "40ab06b8",
   "metadata": {},
   "source": [
    "# Done"
   ]
  }
 ],
 "metadata": {
  "kernelspec": {
   "display_name": "tf",
   "language": "python",
   "name": "tf"
  },
  "language_info": {
   "codemirror_mode": {
    "name": "ipython",
    "version": 3
   },
   "file_extension": ".py",
   "mimetype": "text/x-python",
   "name": "python",
   "nbconvert_exporter": "python",
   "pygments_lexer": "ipython3",
   "version": "3.9.17"
  }
 },
 "nbformat": 4,
 "nbformat_minor": 5
}
