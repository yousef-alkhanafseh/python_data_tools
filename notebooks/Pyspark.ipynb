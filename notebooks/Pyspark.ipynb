{
 "cells": [
  {
   "cell_type": "code",
   "execution_count": null,
   "id": "323d1755",
   "metadata": {},
   "outputs": [],
   "source": [
    "@ Yousef ALKHA"
   ]
  },
  {
   "cell_type": "markdown",
   "id": "b293b43c",
   "metadata": {},
   "source": [
    "# Pyspark Evaluation"
   ]
  },
  {
   "cell_type": "code",
   "execution_count": null,
   "id": "6c7f45fd",
   "metadata": {},
   "outputs": [],
   "source": [
    "import os\n",
    "import pyspark\n",
    "from pyspark import SparkConf, SparkContext, StorageLevel\n",
    "from pyspark.sql import SparkSession\n",
    "import pyspark.sql.functions as func\n",
    "from pyspark.sql import Window\n",
    "from pyspark.sql.types import DoubleType"
   ]
  },
  {
   "cell_type": "code",
   "execution_count": null,
   "id": "eec0067e",
   "metadata": {},
   "outputs": [],
   "source": [
    "print(\"Spark Version:\", pyspark.__version__)"
   ]
  },
  {
   "cell_type": "code",
   "execution_count": null,
   "id": "35ea4aba",
   "metadata": {},
   "outputs": [],
   "source": [
    "conf = SparkConf().setMaster(\"local[*]\")\\\n",
    "                                .set(\"spark.ui.port\", 4040)\\\n",
    "                                .set(\"spark.memory.fraction\", \"0.9\")\\\n",
    "                                .set(\"spark.memory.storageFraction\", \"0.4\")\\\n",
    "                                .set(\"spark.driver.memory\", \"15g\")\\\n",
    "                                .set(\"spark.executor.memory\", \"15g\")\\\n",
    "                                .set(\"spark.executor.cores\", 5)\\\n",
    "                                .set(\"spark.driver.cores\", 5)\\\n",
    "                                .set(\"spark.executor.instances\", 3)\\\n",
    "                                .setAppName(\"PYSPARK_VS_PANDAS_VS_POLARS\")\n",
    "spark = SparkSession.builder.config(conf=conf).getOrCreate()\n",
    "sc = spark.sparkContext\n",
    "sc.setLogLevel(\"WARN\")"
   ]
  },
  {
   "cell_type": "markdown",
   "id": "419879bd",
   "metadata": {},
   "source": [
    "# Data Operations"
   ]
  },
  {
   "cell_type": "markdown",
   "id": "c8a2ba13",
   "metadata": {},
   "source": [
    "## Loading"
   ]
  },
  {
   "cell_type": "code",
   "execution_count": null,
   "id": "5b35da90",
   "metadata": {},
   "outputs": [],
   "source": [
    "main_dir, _ = os.path.split(os.getcwd())\n",
    "data_dir = os.path.join(main_dir, \"data\")\n",
    "internet_session_data_path = os.path.join(data_dir, \"internet_sessions\")"
   ]
  },
  {
   "cell_type": "code",
   "execution_count": null,
   "id": "a676865a",
   "metadata": {},
   "outputs": [],
   "source": [
    "%%time\n",
    "for i in range(5):\n",
    "    spark_df = spark.read.format(\"csv\").option(\"header\",True).load(internet_session_data_path)\n",
    "    spark_df.show(5, False)"
   ]
  },
  {
   "cell_type": "code",
   "execution_count": null,
   "id": "c7f12163",
   "metadata": {},
   "outputs": [],
   "source": [
    "spark_df.cache()\n",
    "print(spark_df.count())"
   ]
  },
  {
   "cell_type": "markdown",
   "id": "cfb062e5",
   "metadata": {},
   "source": [
    "## Column Selection"
   ]
  },
  {
   "cell_type": "code",
   "execution_count": null,
   "id": "c464bc3a",
   "metadata": {},
   "outputs": [],
   "source": [
    "%%time\n",
    "spark_df.select(\"username\", \"private_ip\", \"terminatecause\", \"statustype\").show(5)"
   ]
  },
  {
   "cell_type": "markdown",
   "id": "f8963234",
   "metadata": {},
   "source": [
    "## Row Selection"
   ]
  },
  {
   "cell_type": "code",
   "execution_count": null,
   "id": "3e7c620c",
   "metadata": {},
   "outputs": [],
   "source": [
    "%%time\n",
    "# window_spec = Window.orderBy(\"username\")\n",
    "# spark_df_temp = spark_df.withColumn(\"row_number\", func.row_number().over(window_spec))\n",
    "# spark_df_temp.filter(spark_df_temp[\"row_number\"]==51235).show(5)\n",
    "\n",
    "\n",
    "spark_df_temp = spark_df.withColumn(\"row_id\", func.monotonically_increasing_id())\n",
    "spark_df_temp.filter(spark_df_temp.row_id == 51235).show(5)"
   ]
  },
  {
   "cell_type": "markdown",
   "id": "c4d0c8cb",
   "metadata": {},
   "source": [
    "## Filtering"
   ]
  },
  {
   "cell_type": "code",
   "execution_count": null,
   "id": "a52bdc01",
   "metadata": {},
   "outputs": [],
   "source": [
    "%%time\n",
    "spark_df.filter((spark_df['port_begin'] > 27224) & (spark_df['port_end'] < 60363)).show(5)"
   ]
  },
  {
   "cell_type": "markdown",
   "id": "cc08c7bf",
   "metadata": {},
   "source": [
    "## Grouping & Aggregating"
   ]
  },
  {
   "cell_type": "code",
   "execution_count": null,
   "id": "7047e655",
   "metadata": {},
   "outputs": [],
   "source": [
    "%%time\n",
    "spark_df.groupBy('username').agg(func.sum(func.col('download')).alias('download'), \n",
    "                                       func.sum(func.col('upload')).alias('upload')).show(5)"
   ]
  },
  {
   "cell_type": "markdown",
   "id": "29db8f35",
   "metadata": {},
   "source": [
    "## Joining"
   ]
  },
  {
   "cell_type": "code",
   "execution_count": null,
   "id": "a2a9e1d0",
   "metadata": {},
   "outputs": [],
   "source": [
    "ids_df = spark.read.format(\"csv\").option(\"header\", True).load(os.path.join(data_dir, \"ids\", \"username_id.csv\"))\n",
    "ids_df = func.broadcast(ids_df)"
   ]
  },
  {
   "cell_type": "code",
   "execution_count": null,
   "id": "9bc3e51a",
   "metadata": {},
   "outputs": [],
   "source": [
    "%%time\n",
    "spark_df.join(ids_df, on='username', how=\"inner\").show(5)"
   ]
  },
  {
   "cell_type": "markdown",
   "id": "418c118c",
   "metadata": {},
   "source": [
    "## Pivoting"
   ]
  },
  {
   "cell_type": "code",
   "execution_count": null,
   "id": "f0835666",
   "metadata": {},
   "outputs": [],
   "source": [
    "%%time\n",
    "spark_df_temp = spark_df.fillna({\"statustype\": \"Empty\", \"terminatecause\": \"Empty\"})\n",
    "spark_df_temp = spark_df_temp.groupBy(\"statustype\").pivot(\"terminatecause\").agg(func.count(\"username\"))\n",
    "spark_df_temp.show(5)"
   ]
  },
  {
   "cell_type": "markdown",
   "id": "a7557b6d",
   "metadata": {},
   "source": [
    "## Sorting"
   ]
  },
  {
   "cell_type": "code",
   "execution_count": null,
   "id": "21b40aa8",
   "metadata": {},
   "outputs": [],
   "source": [
    "%%time\n",
    "spark_df.orderBy('username').show(5)"
   ]
  },
  {
   "cell_type": "markdown",
   "id": "fe50265a",
   "metadata": {},
   "source": [
    "## Applying External Functions"
   ]
  },
  {
   "cell_type": "code",
   "execution_count": null,
   "id": "1e47d0d7",
   "metadata": {},
   "outputs": [],
   "source": [
    "def bytes_to_gb(value):\n",
    "    if value is None:\n",
    "        return None  # Return None for null values\n",
    "    return value / (1024 ** 3)"
   ]
  },
  {
   "cell_type": "code",
   "execution_count": null,
   "id": "8c1e9db7",
   "metadata": {},
   "outputs": [],
   "source": [
    "%%time\n",
    "bytes_to_gb_udf = func.udf(bytes_to_gb, DoubleType())\n",
    "spark_df = spark_df.withColumn(\"download\", func.col(\"download\").cast(\"int\"))\n",
    "spark_df.withColumn(\"download\", bytes_to_gb_udf(spark_df[\"download\"])).show(5)"
   ]
  },
  {
   "cell_type": "markdown",
   "id": "54d14bce",
   "metadata": {},
   "source": [
    "## String Operation"
   ]
  },
  {
   "cell_type": "code",
   "execution_count": null,
   "id": "ed971737",
   "metadata": {},
   "outputs": [],
   "source": [
    "%%time\n",
    "spark_df.filter(spark_df['username'].rlike('10|20')).show(5)"
   ]
  },
  {
   "cell_type": "markdown",
   "id": "bf07c0d2",
   "metadata": {},
   "source": [
    "## Datetime Operation"
   ]
  },
  {
   "cell_type": "code",
   "execution_count": null,
   "id": "75cb8bdf",
   "metadata": {},
   "outputs": [],
   "source": [
    "%%time\n",
    "spark_df.withColumn(\"start_time\", func.to_timestamp(spark_df[\"start_time\"].cast(\"string\"), \"yyyyMMddHHmmss\")).show(5)"
   ]
  },
  {
   "cell_type": "markdown",
   "id": "cda4eba2",
   "metadata": {},
   "source": [
    "## Writing"
   ]
  },
  {
   "cell_type": "code",
   "execution_count": null,
   "id": "2b38c6a4",
   "metadata": {},
   "outputs": [],
   "source": [
    "%%time\n",
    "spark_df.coalesce(14).write.format(\"csv\").option(\"header\",True).mode(\"overwrite\").save(os.path.join(data_dir, \"output\", \"pyspark_data\"))"
   ]
  },
  {
   "cell_type": "markdown",
   "id": "dfc97194",
   "metadata": {},
   "source": [
    "# Done"
   ]
  }
 ],
 "metadata": {
  "kernelspec": {
   "display_name": "tf",
   "language": "python",
   "name": "tf"
  },
  "language_info": {
   "codemirror_mode": {
    "name": "ipython",
    "version": 3
   },
   "file_extension": ".py",
   "mimetype": "text/x-python",
   "name": "python",
   "nbconvert_exporter": "python",
   "pygments_lexer": "ipython3",
   "version": "3.9.17"
  }
 },
 "nbformat": 4,
 "nbformat_minor": 5
}
